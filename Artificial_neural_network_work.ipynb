{
 "cells": [
  {
   "cell_type": "code",
   "execution_count": 30,
   "metadata": {},
   "outputs": [],
   "source": [
    "import numpy as np\n",
    "import pandas as pd\n",
    "import matplotlib.pyplot as plt\n",
    "from sklearn.model_selection import train_test_split\n",
    "from sklearn.preprocessing import LabelEncoder"
   ]
  },
  {
   "cell_type": "code",
   "execution_count": 32,
   "metadata": {},
   "outputs": [],
   "source": [
    "dataset=pd.read_csv(\"fraud_final.csv\")"
   ]
  },
  {
   "cell_type": "code",
   "execution_count": 33,
   "metadata": {},
   "outputs": [],
   "source": [
    "dataset= dataset.drop(['zipcodeOri','zipMerchant','step'] , axis=1)"
   ]
  },
  {
   "cell_type": "code",
   "execution_count": 34,
   "metadata": {},
   "outputs": [],
   "source": [
    "X=dataset.iloc[:, :-1].values\n",
    "Y=dataset.iloc[:,-1].values\n",
    "Y=Y.reshape(-1,1)"
   ]
  },
  {
   "cell_type": "code",
   "execution_count": 35,
   "metadata": {},
   "outputs": [],
   "source": [
    "labelencoder_X= LabelEncoder()\n",
    "X[:,0]= labelencoder_X.fit_transform(X[:,0])\n",
    "X[:,1]= labelencoder_X.fit_transform(X[:,1])\n",
    "X[:,2]= labelencoder_X.fit_transform(X[:,2])\n",
    "X[:,3]= labelencoder_X.fit_transform(X[:,3])\n",
    "X[:,4]= labelencoder_X.fit_transform(X[:,4])"
   ]
  },
  {
   "cell_type": "code",
   "execution_count": 36,
   "metadata": {},
   "outputs": [],
   "source": [
    "from sklearn.preprocessing import StandardScaler\n",
    "sc = StandardScaler()\n",
    "X[:,[5]] = sc.fit_transform(X[:,[5]])"
   ]
  },
  {
   "cell_type": "code",
   "execution_count": 37,
   "metadata": {},
   "outputs": [
    {
     "data": {
      "text/plain": [
       "(70701, 1)"
      ]
     },
     "execution_count": 37,
     "metadata": {},
     "output_type": "execute_result"
    }
   ],
   "source": [
    "X_train, X_test, y_train, y_test = train_test_split(X,Y,test_size=0.3,random_state=1,shuffle=True,stratify=Y)"
   ]
  },
  {
   "cell_type": "code",
   "execution_count": 38,
   "metadata": {},
   "outputs": [],
   "source": [
    "#Sigmoid Function\n",
    "def sigmoid (x):\n",
    "    return 1.0/(1.0 + np.exp(-x))\n",
    "\n",
    "#Derivative of Sigmoid Function\n",
    "def derivatives_sigmoid(x):\n",
    "    return x * (1 - x)\n"
   ]
  },
  {
   "cell_type": "code",
   "execution_count": 40,
   "metadata": {},
   "outputs": [
    {
     "name": "stderr",
     "output_type": "stream",
     "text": [
      "<ipython-input-38-4c5d8a11a538>:3: RuntimeWarning: overflow encountered in exp\n",
      "  return 1.0/(1.0 + np.exp(-x))\n"
     ]
    }
   ],
   "source": [
    "\n",
    "\n",
    "epoch=5\n",
    "lr=0.3 #Setting learning rate\n",
    "inputlayer_neurons = X_train.shape[1] #number of features in data set\n",
    "hiddenlayer_neurons =10 #number of hidden layers neurons\n",
    "output_neurons = 10\n",
    "\n",
    "wh=np.random.uniform(size=(inputlayer_neurons,hiddenlayer_neurons))\n",
    "bh=np.random.uniform(size=(X_train.shape[0],hiddenlayer_neurons))\n",
    "wout=np.random.uniform(size=(hiddenlayer_neurons,1))\n",
    "bout=np.random.uniform(size=(y_train.shape[0],1))\n",
    "for i in range(epoch):\n",
    "    \n",
    "\n",
    "    #Forward Propogation\n",
    "    hidden_layer_input1=np.array(np.dot(X_train,wh),dtype=np.float32)\n",
    "    hidden_layer_input1=hidden_layer_input1 + bh\n",
    "    hiddenlayer_activations = sigmoid(hidden_layer_input1)\n",
    "    output_layer_input1=np.array(np.dot(hiddenlayer_activations,wout),dtype=np.float32)\n",
    "    output_layer_input= output_layer_input1+ bout\n",
    "    output = sigmoid(output_layer_input)\n",
    "    \n",
    "    #Backpropagation\n",
    "    E = y_train- output\n",
    "    slope_output_layer = np.array(derivatives_sigmoid(output),dtype=np.float32)\n",
    "    slope_hidden_layer = np.array(derivatives_sigmoid(hiddenlayer_activations),dtype=np.float32)\n",
    "    slope_hidden_layer = np.array(derivatives_sigmoid(hiddenlayer_activations),dtype=np.float32)\n",
    "    d_output = E * slope_output_layer\n",
    "    Error_at_hidden_layer = d_output.dot(wout.T)\n",
    "    d_hiddenlayer = Error_at_hidden_layer * slope_hidden_layer\n",
    "    wout =wout+ hiddenlayer_activations.T.dot(d_output) *lr\n",
    "    bout =bout+ np.sum(d_output, axis=0,keepdims=True) *lr\n",
    "    wh =wh+ X_train.T.dot(d_hiddenlayer) *lr\n",
    "    bh =bh+ np.sum(d_hiddenlayer, axis=0,keepdims=True) *lr\n",
    "    "
   ]
  },
  {
   "cell_type": "code",
   "execution_count": 12,
   "metadata": {},
   "outputs": [
    {
     "data": {
      "text/plain": [
       "array([[0.],\n",
       "       [0.],\n",
       "       [0.],\n",
       "       ...,\n",
       "       [0.],\n",
       "       [0.],\n",
       "       [0.]])"
      ]
     },
     "execution_count": 12,
     "metadata": {},
     "output_type": "execute_result"
    }
   ],
   "source": [
    "output"
   ]
  },
  {
   "cell_type": "code",
   "execution_count": 14,
   "metadata": {},
   "outputs": [
    {
     "data": {
      "text/plain": [
       "0.9853608859846396"
      ]
     },
     "execution_count": 14,
     "metadata": {},
     "output_type": "execute_result"
    }
   ],
   "source": [
    "from sklearn.metrics import  accuracy_score\n",
    "accuracy_score(output, y_train)"
   ]
  }
 ],
 "metadata": {
  "kernelspec": {
   "display_name": "Python 3",
   "language": "python",
   "name": "python3"
  },
  "language_info": {
   "codemirror_mode": {
    "name": "ipython",
    "version": 3
   },
   "file_extension": ".py",
   "mimetype": "text/x-python",
   "name": "python",
   "nbconvert_exporter": "python",
   "pygments_lexer": "ipython3",
   "version": "3.8.5"
  }
 },
 "nbformat": 4,
 "nbformat_minor": 4
}
